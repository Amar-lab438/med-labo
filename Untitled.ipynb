{
 "cells": [
  {
   "cell_type": "code",
   "execution_count": 43,
   "id": "ecabbfc9-dbcc-4cd7-83aa-c72588557bab",
   "metadata": {},
   "outputs": [
    {
     "name": "stdout",
     "output_type": "stream",
     "text": [
      "36\n"
     ]
    }
   ],
   "source": [
    "#Q1Écrivez un programme Python qui multiplie tous les éléments d'une liste.\n",
    "def mult(liste):\n",
    "    r = 1\n",
    "    for element in liste:\n",
    "        r *= element\n",
    "    return r\n",
    "\n",
    "x=[2,3,6]\n",
    "print(mult(x))"
   ]
  },
  {
   "cell_type": "code",
   "execution_count": 84,
   "id": "45118b0d-a639-496e-ab22-85e7b85e97f7",
   "metadata": {},
   "outputs": [
    {
     "name": "stdout",
     "output_type": "stream",
     "text": [
      "[(2, 1), (1, 2), (2, 3), (4, 4), (2, 5)]\n"
     ]
    }
   ],
   "source": [
    "#Q2\n",
    "def last(n): return n[-1]\n",
    "\n",
    "def sort_list_last(tuples):\n",
    "  return sorted(tuples, key=last)\n",
    "\n",
    "print(sort_list_last([(2, 5), (1, 2), (4, 4), (2, 3), (2, 1)]))\n"
   ]
  },
  {
   "cell_type": "code",
   "execution_count": 83,
   "id": "29259919-82f1-4edc-b3ac-38808e4df776",
   "metadata": {},
   "outputs": [
    {
     "name": "stdout",
     "output_type": "stream",
     "text": [
      "{'a': 400, 'b': 400, 'c': 300, 'd': 400}\n"
     ]
    }
   ],
   "source": [
    "#Q3\n",
    "def Merge(dict1, dict2): \n",
    "    res = dict1 | dict2\n",
    "    return res \n",
    "       \n",
    "dict1 = {'a': 100, 'b': 200,'c':300} \n",
    "dict2 = {'a': 300, 'b': 200,'d':400} \n",
    "dict3 = dict(dict1) # don't do `d3=d1`, you need to make a copy\n",
    "dict3.update(dict2) \n",
    "for i, j in dict1.items():\n",
    "    for x, y in dict2.items():\n",
    "        if i == x:\n",
    "            dict3[i]=(j+y)\n",
    "print(dict3)"
   ]
  },
  {
   "cell_type": "code",
   "execution_count": 86,
   "id": "263a4ed8-be04-4cf2-9e82-b9cb79624927",
   "metadata": {},
   "outputs": [
    {
     "name": "stdin",
     "output_type": "stream",
     "text": [
      " 8\n"
     ]
    },
    {
     "name": "stdout",
     "output_type": "stream",
     "text": [
      "{1: 1, 2: 4, 3: 9, 4: 16, 5: 25, 6: 36, 7: 49, 8: 64}\n"
     ]
    }
   ],
   "source": [
    "#Q4\n",
    "n=int(input())\n",
    "d=dict()\n",
    "for i in range(1,n+1):\n",
    "    d[i]=i*i\n",
    "\n",
    "print(d)"
   ]
  },
  {
   "cell_type": "code",
   "execution_count": 88,
   "id": "95c00f5a-ef01-4235-87af-f82ab672aa93",
   "metadata": {},
   "outputs": [
    {
     "name": "stdout",
     "output_type": "stream",
     "text": [
      "[('item3', '24.5'), ('item2', '15.10'), ('item1', '12.20')]\n"
     ]
    }
   ],
   "source": [
    "#Q5\n",
    "list = [('item1', '12.20'), ('item2', '15.10'), ('item3', '24.5')]\n",
    "print( sorted(list, key=lambda x: float(x[1]), reverse=True))"
   ]
  },
  {
   "cell_type": "code",
   "execution_count": null,
   "id": "f8a0f8ac-a737-46fb-824b-8d8ad494c78d",
   "metadata": {},
   "outputs": [],
   "source": []
  }
 ],
 "metadata": {
  "kernelspec": {
   "display_name": "Python 3 (ipykernel)",
   "language": "python",
   "name": "python3"
  },
  "language_info": {
   "codemirror_mode": {
    "name": "ipython",
    "version": 3
   },
   "file_extension": ".py",
   "mimetype": "text/x-python",
   "name": "python",
   "nbconvert_exporter": "python",
   "pygments_lexer": "ipython3",
   "version": "3.9.12"
  }
 },
 "nbformat": 4,
 "nbformat_minor": 5
}
