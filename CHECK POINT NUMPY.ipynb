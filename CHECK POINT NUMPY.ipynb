{
 "cells": [
  {
   "cell_type": "code",
   "execution_count": 1,
   "id": "c84a5a84",
   "metadata": {},
   "outputs": [
    {
     "name": "stdout",
     "output_type": "stream",
     "text": [
      "NumPy Array:\n",
      "[1 2 3]\n",
      "List: [1, 2, 3]\n"
     ]
    }
   ],
   "source": [
    "#Q1 Write a Python program to convert an array to an ordinary list with the same items\n",
    "\n",
    "import numpy as np\n",
    "\n",
    "# 1d array to list\n",
    "arr = np.array([1, 2, 3])\n",
    "print(f'NumPy Array:\\n{arr}')\n",
    "\n",
    "list1 = arr.tolist()\n",
    "print(f'List: {list1}')"
   ]
  },
  {
   "cell_type": "code",
   "execution_count": 2,
   "id": "42de728a",
   "metadata": {},
   "outputs": [
    {
     "name": "stdout",
     "output_type": "stream",
     "text": [
      "30\n"
     ]
    }
   ],
   "source": [
    "#Q2 Write a NumPy program to compute the sum of the diagonal elements of a given array.\n",
    "\n",
    "arr= np.arange(16)\n",
    "arr= np.reshape(arr,(4,4))\n",
    "\n",
    "a=np.diagonal(arr, 0,0,1)\n",
    "\n",
    "result=sum(a)\n",
    "print(result)\n",
    "\n",
    "\n"
   ]
  },
  {
   "cell_type": "code",
   "execution_count": 3,
   "id": "b764af30",
   "metadata": {},
   "outputs": [
    {
     "name": "stdout",
     "output_type": "stream",
     "text": [
      "Original array: \n",
      "[[ 0 10 20]\n",
      " [20 30 40]]\n",
      "Values bigger than 10 = [20 20 30 40]\n",
      "Their indices are  (array([0, 1, 1, 1]), array([2, 0, 1, 2]))\n"
     ]
    }
   ],
   "source": [
    "#Q3 Given an array of your choice, get all the values higher than X\n",
    "\n",
    "import numpy as np\n",
    "x = np.array([[0, 10, 20], [20, 30, 40]])\n",
    "print(\"Original array: \")\n",
    "print(x)\n",
    "print(\"Values bigger than 10 =\", x[x>10])\n",
    "print(\"Their indices are \", np.nonzero(x > 10))"
   ]
  },
  {
   "cell_type": "code",
   "execution_count": 5,
   "id": "ddc97d38",
   "metadata": {},
   "outputs": [
    {
     "name": "stdout",
     "output_type": "stream",
     "text": [
      "[5 6 7]\n"
     ]
    }
   ],
   "source": [
    "#Q4 Given two arrays, A & B have the same shape. \n",
    "import numpy as np\n",
    "a = np.array([0, 1, 2])\n",
    "b = np.array([5, 5, 5])\n",
    "C= a + b\n",
    "print(C)"
   ]
  },
  {
   "cell_type": "code",
   "execution_count": 6,
   "id": "22dc6a7b",
   "metadata": {},
   "outputs": [
    {
     "name": "stdout",
     "output_type": "stream",
     "text": [
      "[[0.31448564 0.44078298 0.03741876 0.79174273]\n",
      " [0.96376978 0.70206319 0.69458194 0.02432434]\n",
      " [0.34179675 0.08199044 0.64275879 0.90834633]]\n",
      "[[-0.08162189  0.04467545 -0.35868877  0.3956352 ]\n",
      " [ 0.36758497  0.10587838  0.09839713 -0.57186047]\n",
      " [-0.15192633 -0.41173264  0.14903571  0.41462325]]\n"
     ]
    }
   ],
   "source": [
    "#Q5  Write a NumPy program to subtract the mean of each row of a given matrix.\n",
    "\n",
    "import numpy as np\n",
    "a = np.random.rand(3, 4)\n",
    "print(a)\n",
    "b = a - a.mean(axis=1, keepdims=True)\n",
    "print(b)\n",
    "\n",
    "\n",
    "\n"
   ]
  },
  {
   "cell_type": "code",
   "execution_count": null,
   "id": "7273349a",
   "metadata": {},
   "outputs": [],
   "source": []
  }
 ],
 "metadata": {
  "kernelspec": {
   "display_name": "Python 3 (ipykernel)",
   "language": "python",
   "name": "python3"
  },
  "language_info": {
   "codemirror_mode": {
    "name": "ipython",
    "version": 3
   },
   "file_extension": ".py",
   "mimetype": "text/x-python",
   "name": "python",
   "nbconvert_exporter": "python",
   "pygments_lexer": "ipython3",
   "version": "3.9.12"
  }
 },
 "nbformat": 4,
 "nbformat_minor": 5
}
