{
 "cells": [
  {
   "cell_type": "code",
   "execution_count": 11,
   "id": "48ef5aab-b229-4672-a9ef-5a7af8859432",
   "metadata": {},
   "outputs": [
    {
     "name": "stdout",
     "output_type": "stream",
     "text": [
      "35\n"
     ]
    }
   ],
   "source": [
    "#Q1 Write a Python function to find the largest (max) of three numbers\n",
    "def maximum(a, b, c):\n",
    "  \n",
    "    if (a >= b) and (a >= c):\n",
    "        largest = a\n",
    "  \n",
    "    elif (b >= a) and (b >= c):\n",
    "        largest = b\n",
    "    else:\n",
    "        largest = c\n",
    "          \n",
    "    return largest\n",
    "  \n",
    "a = 20\n",
    "b = 35\n",
    "c = 19\n",
    "print(maximum(a, b, c))"
   ]
  },
  {
   "cell_type": "code",
   "execution_count": 13,
   "id": "c9c43b91-0466-4946-a821-7c254a28b146",
   "metadata": {},
   "outputs": [
    {
     "data": {
      "text/plain": [
       "(50, 30)"
      ]
     },
     "execution_count": 13,
     "metadata": {},
     "output_type": "execute_result"
    }
   ],
   "source": [
    "#Q2 Write a function calculation() so it can accept two variables and calculate the addition and subtraction of them.\n",
    "def func(num1, num2):\n",
    "    sum_ = num1+num2\n",
    "    sub_ = num1-num2\n",
    "    return sum_, sub_\n",
    "\n",
    "func(40,10)"
   ]
  },
  {
   "cell_type": "code",
   "execution_count": null,
   "id": "47243173-ecb9-4219-95e6-ceb50c2fea56",
   "metadata": {},
   "outputs": [],
   "source": [
    "def sum(numbers):\n",
    "    total = 0\n",
    "    for x in numbers:\n",
    "        total += x\n",
    "    return total\n",
    "#mult\n",
    "def multiply(numbers):  \n",
    "    total = 1\n",
    "    for x in numbers:\n",
    "        total *= x  \n",
    "    return total  \n",
    "\n",
    "#two functions\n",
    "def simpleSum(mylist):\n",
    "    #Write your code\n",
    "    number = 1\n",
    "    for n in mylist:\n",
    "        if n / 2 != 0:\n",
    "            return sum(mylist)\n",
    "        else:\n",
    "            number *= n\n",
    "            return number\n",
    "\n",
    "print(simpleSum([1, 2, 4, 5]))\n",
    "print(simpleSum([2, 4, 5, 6]))"
   ]
  },
  {
   "cell_type": "code",
   "execution_count": null,
   "id": "002ff08e-997d-41b7-9411-a7a9a3bd20fe",
   "metadata": {},
   "outputs": [],
   "source": [
    "n=input(\"green-red-yellow-black-white:\")\n",
    "a=n.split('-')\n",
    "l.sort()\n",
    "print('-'.join(l))"
   ]
  },
  {
   "cell_type": "code",
   "execution_count": null,
   "id": "44636730-33eb-46cb-b18b-47b199f82cc4",
   "metadata": {},
   "outputs": [],
   "source": []
  }
 ],
 "metadata": {
  "kernelspec": {
   "display_name": "Python 3 (ipykernel)",
   "language": "python",
   "name": "python3"
  },
  "language_info": {
   "codemirror_mode": {
    "name": "ipython",
    "version": 3
   },
   "file_extension": ".py",
   "mimetype": "text/x-python",
   "name": "python",
   "nbconvert_exporter": "python",
   "pygments_lexer": "ipython3",
   "version": "3.9.12"
  }
 },
 "nbformat": 4,
 "nbformat_minor": 5
}
