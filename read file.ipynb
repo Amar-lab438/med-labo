{
 "cells": [
  {
   "cell_type": "code",
   "execution_count": 2,
   "id": "5bcf5317-1174-4b4d-8e2e-8e66fb01ee92",
   "metadata": {},
   "outputs": [
    {
     "name": "stdout",
     "output_type": "stream",
     "text": [
      "What is Python language?                                                \n",
      "Python is a widely used high-level, general-purpose, interpreted, dynamic programming language.Its design philosophy emphasizes code readability, and its syntax allows programmers to express concepts in fewer lines of code than possible in \n",
      "languages such as C++ or Java. \n",
      "Python supports multiple programming paradigms, including object-oriented, imperative and functional programming or procedural styles. It features a dynamic type system and automatic memory management and has a large and comprehensive standard library.The best way we learn anything is by practice and exercise questions. We  have started this section for those (beginner to intermediate) who are familiar with Python.\n"
     ]
    }
   ],
   "source": [
    "#-1\n",
    "f = open(\"python.txt\", \"r\")\n",
    "print(f.read())"
   ]
  },
  {
   "cell_type": "code",
   "execution_count": 7,
   "id": "c96f885a-5b0c-416e-91d4-084ee7816f0f",
   "metadata": {},
   "outputs": [
    {
     "name": "stdout",
     "output_type": "stream",
     "text": [
      "What is Python language?                                                \n",
      "\n",
      "Python is a widely used high-level, general-purpose, interpreted, dynamic programming language.Its design philosophy emphasizes code readability, and its syntax allows programmers to express concepts in fewer lines of code than possible in \n",
      "\n",
      "languages such as C++ or Java. \n",
      "\n"
     ]
    }
   ],
   "source": [
    "#2-Write a Python program to read the first n lines of a file.\n",
    "def file_read_from_head(fname, nlines):\n",
    "        from itertools import islice\n",
    "        with open(fname) as f:\n",
    "                for line in islice(f, nlines):\n",
    "                        print(line)\n",
    "file_read_from_head('python.txt',3)"
   ]
  },
  {
   "cell_type": "code",
   "execution_count": 12,
   "id": "c0fda51c-973f-4cbe-9410-02aadbe8487f",
   "metadata": {},
   "outputs": [
    {
     "name": "stdout",
     "output_type": "stream",
     "text": [
      "Python supports multiple programming paradigms, including object-oriented, imperative and functional programming or procedural styles. It features a dynamic type system and automatic memory management and has a large and comprehensive standard library.The best way we learn anything is by practice and exercise questions. We  have started this section for those (beginner to intermediate) who are familiar with Python."
     ]
    }
   ],
   "source": [
    "#3-Write a Python program to read the last n lines of a file.\n",
    "def LastNlines(fname, N):\n",
    "    # opening file using with() method\n",
    "    # so that file get closed\n",
    "    # after completing work\n",
    "    with open(fname) as file:\n",
    "         \n",
    "        # loop to read iterate\n",
    "        # last n lines and print it\n",
    "        for line in (file.readlines() [-N:]):\n",
    "            print(line, end ='')\n",
    " \n",
    " \n",
    "# Driver Code:\n",
    "if __name__ == '__main__':\n",
    "    fname = 'python.txt'\n",
    "    N = 1\n",
    "    try:\n",
    "        LastNlines(fname, N)\n",
    "    except:\n",
    "        print('File not found')"
   ]
  },
  {
   "cell_type": "code",
   "execution_count": 14,
   "id": "3bf239d7-c589-492d-9af9-8c9a46177ec5",
   "metadata": {},
   "outputs": [
    {
     "name": "stdout",
     "output_type": "stream",
     "text": [
      "148\n"
     ]
    }
   ],
   "source": [
    "#4-Write a Python program that takes a text file as input and returns the number of words of a given text file.\n",
    "\n",
    "def count_words(filepath):\n",
    "   with open(filepath) as f:\n",
    "       data = f.read()\n",
    "       data.replace(\",\", \" \")\n",
    "       return len(data.split(\" \"))\n",
    "print(count_words(\"python.txt\"))"
   ]
  },
  {
   "cell_type": "code",
   "execution_count": 16,
   "id": "851af779-4dce-4a85-b066-a3bf4b4425e1",
   "metadata": {},
   "outputs": [
    {
     "name": "stdout",
     "output_type": "stream",
     "text": [
      "Python is a widely used high-level, general-purpose, interpreted, dynamic programming language.Its design philosophy emphasizes code readability, and its syntax allows programmers to express concepts in fewer lines of code than possible in \n",
      "\n",
      "languages such as C++ or Java. \n",
      "\n",
      "Python supports multiple programming paradigms, including object-oriented, imperative and functional programming or procedural styles. It features a dynamic type system and automatic memory management and has a large and comprehensive standard library.The best way we learn anything is by practice and exercise questions. We  have started this section for those (beginner to intermediate) who are familiar with Python.\n"
     ]
    }
   ],
   "source": [
    "#5-(Bonus) Write a Python program to read the last n lines of a file.\n",
    "\n",
    "def read_lastnlines(fname,n):\n",
    "    with open('python.txt') as f:\n",
    "        for line in (f.readlines() [-n:]):\n",
    "                print(line)\n",
    "\n",
    "read_lastnlines('python.txt',3)"
   ]
  },
  {
   "cell_type": "code",
   "execution_count": null,
   "id": "964a23ad-c6a0-48a5-8c0a-98c0f0c51daf",
   "metadata": {},
   "outputs": [],
   "source": []
  }
 ],
 "metadata": {
  "kernelspec": {
   "display_name": "Python 3 (ipykernel)",
   "language": "python",
   "name": "python3"
  },
  "language_info": {
   "codemirror_mode": {
    "name": "ipython",
    "version": 3
   },
   "file_extension": ".py",
   "mimetype": "text/x-python",
   "name": "python",
   "nbconvert_exporter": "python",
   "pygments_lexer": "ipython3",
   "version": "3.9.12"
  }
 },
 "nbformat": 4,
 "nbformat_minor": 5
}
