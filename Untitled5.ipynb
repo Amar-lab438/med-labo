{
 "cells": [
  {
   "cell_type": "code",
   "execution_count": 9,
   "id": "243d4dc4-36e3-4b03-b173-1814d3fed9fa",
   "metadata": {},
   "outputs": [
    {
     "name": "stdout",
     "output_type": "stream",
     "text": [
      "(1, 2, 3)\n"
     ]
    }
   ],
   "source": [
    "#instructions 1\n",
    "class Point3D(object):\n",
    "    def __init__(self, x, y, z):\n",
    "        self.x = x\n",
    "        self.y = y\n",
    "        self.z = z\n",
    "    def __repr__(self):\n",
    "        return \"(%d, %d, %d)\" % (self.x, self.y, self.z)\n",
    "        \n",
    "my_point = Point3D(1,2,3)\n",
    "\n",
    "print (my_point)"
   ]
  },
  {
   "cell_type": "code",
   "execution_count": 35,
   "id": "43ed6a27-5e8e-4bcc-a0b6-ab458934ea18",
   "metadata": {},
   "outputs": [
    {
     "name": "stdout",
     "output_type": "stream",
     "text": [
      "12\n",
      "14\n"
     ]
    }
   ],
   "source": [
    "#Instruction 2 Area and Perimeter Rectangle\n",
    "class Rectangle():\n",
    "    def __init__(self, l, w):\n",
    "        self.length = l\n",
    "        self.width  = w\n",
    "\n",
    "    def rectangle_area(self):\n",
    "        return self.length*self.width\n",
    "    def calculate_perimeter(self):\n",
    "        return 2*(self.width +self.length)\n",
    "\n",
    "newRectangle = Rectangle(4, 3)\n",
    "print(newRectangle.rectangle_area())\n",
    "print (newRectangle.calculate_perimeter())\n"
   ]
  },
  {
   "cell_type": "code",
   "execution_count": 54,
   "id": "504fe0b8-d90c-4bb5-8998-f8ad7d6bf7ce",
   "metadata": {},
   "outputs": [
    {
     "name": "stdout",
     "output_type": "stream",
     "text": [
      "Inside\n",
      "113.04\n",
      "37.68\n"
     ]
    }
   ],
   "source": [
    "#Instruction 3 Circle Area and Perimeter\n",
    "class Circle():\n",
    "    def __init__(self, r):\n",
    "        self.radius = r\n",
    "\n",
    "    def area(self):\n",
    "        return self.radius**2*3.14\n",
    "    \n",
    "    def perimeter(self):\n",
    "        return 2*self.radius*3.14\n",
    "    \n",
    "    def isInside(circle_x, circle_y, rad, x, y):\n",
    "        if ((x - circle_x) * (x - circle_x) +\n",
    "        (y - circle_y) * (y - circle_y) <= rad * rad):\n",
    "            \n",
    "            return True;\n",
    "        else:\n",
    "            return False;\n",
    " \n",
    "# Driver Code\n",
    "x = 1;\n",
    "y = 1;\n",
    "circle_x = 0;\n",
    "circle_y = 1;\n",
    "rad = 2;\n",
    "if(isInside(circle_x, circle_y, rad, x, y)):\n",
    "    print(\"Inside\");\n",
    "else:\n",
    "    print(\"Outside\");\n",
    "\n",
    "NewCircle = Circle(6)\n",
    "print(NewCircle.area())\n",
    "print(NewCircle.perimeter())\n"
   ]
  },
  {
   "cell_type": "code",
   "execution_count": 55,
   "id": "52b2f02d-8043-4d4b-8eb6-783fa12df35d",
   "metadata": {},
   "outputs": [
    {
     "name": "stdout",
     "output_type": "stream",
     "text": [
      "Hello!!! Welcome to Your account Machine\n"
     ]
    },
    {
     "name": "stdin",
     "output_type": "stream",
     "text": [
      "Enter amount to be Deposited:  45000\n"
     ]
    },
    {
     "name": "stdout",
     "output_type": "stream",
     "text": [
      "\n",
      " Amount Deposited: 45000.0\n"
     ]
    },
    {
     "name": "stdin",
     "output_type": "stream",
     "text": [
      "Enter amount to be Withdrawn:  25000\n"
     ]
    },
    {
     "name": "stdout",
     "output_type": "stream",
     "text": [
      "\n",
      " You Withdrew: 25000.0\n",
      "\n",
      " Net Available sold= 20000.0\n"
     ]
    }
   ],
   "source": [
    "#Bank\n",
    "\n",
    "class Bank_Account:\n",
    "    def __init__(self):\n",
    "        self.sold=0\n",
    "        print(\"Hello!!! Welcome to Your account Machine\")\n",
    " \n",
    "    def deposit(self):\n",
    "        amount=float(input(\"Enter amount to be Deposited: \"))\n",
    "        self.sold += amount\n",
    "        print(\"\\n Amount Deposited:\",amount)\n",
    " \n",
    "    def withdraw(self):\n",
    "        amount = float(input(\"Enter amount to be Withdrawn: \"))\n",
    "        if self.sold>=amount:\n",
    "            self.sold-=amount\n",
    "            print(\"\\n You Withdrew:\", amount)\n",
    "        else:\n",
    "            print(\"\\n Insufficient sold  \")\n",
    " \n",
    "    def display(self):\n",
    "        print(\"\\n Net Available sold=\",self.sold)\n",
    "# Driver code\n",
    "  \n",
    "# creating an object of class\n",
    "s = Bank_Account()\n",
    "  \n",
    "# Calling functions with that class object\n",
    "s.deposit()\n",
    "s.withdraw()\n",
    "s.display()         "
   ]
  },
  {
   "cell_type": "code",
   "execution_count": null,
   "id": "58fd1ef8-846f-437c-9dc3-de83fe705e63",
   "metadata": {},
   "outputs": [],
   "source": []
  }
 ],
 "metadata": {
  "kernelspec": {
   "display_name": "Python 3 (ipykernel)",
   "language": "python",
   "name": "python3"
  },
  "language_info": {
   "codemirror_mode": {
    "name": "ipython",
    "version": 3
   },
   "file_extension": ".py",
   "mimetype": "text/x-python",
   "name": "python",
   "nbconvert_exporter": "python",
   "pygments_lexer": "ipython3",
   "version": "3.9.12"
  }
 },
 "nbformat": 4,
 "nbformat_minor": 5
}
