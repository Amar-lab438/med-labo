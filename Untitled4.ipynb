{
 "cells": [
  {
   "cell_type": "code",
   "execution_count": 7,
   "id": "9371a6f5-aa7f-4fb4-87df-61fbdb3a1a50",
   "metadata": {},
   "outputs": [
    {
     "name": "stdin",
     "output_type": "stream",
     "text": [
      "green-red-yellow-black-white: green-red-yellow-black-white\n"
     ]
    },
    {
     "name": "stdout",
     "output_type": "stream",
     "text": [
      "black-green-red-white-yellow\n"
     ]
    }
   ],
   "source": [
    "#Q4\n",
    "n=input(\"green-red-yellow-black-white:\")\n",
    "a=n.split('-')\n",
    "l.sort()\n",
    "print('-'.join(l))\n"
   ]
  },
  {
   "cell_type": "code",
   "execution_count": 8,
   "id": "061fffd0-3093-413e-a691-f2c79da51656",
   "metadata": {},
   "outputs": [
    {
     "name": "stdout",
     "output_type": "stream",
     "text": [
      "35\n"
     ]
    }
   ],
   "source": [
    "#Q1 Write a Python function to find the largest (max) of three numbers\n",
    "def maximum(a, b, c):\n",
    "  \n",
    "    if (a >= b) and (a >= c):\n",
    "        largest = a\n",
    "  \n",
    "    elif (b >= a) and (b >= c):\n",
    "        largest = b\n",
    "    else:\n",
    "        largest = c\n",
    "          \n",
    "    return largest\n",
    "  \n",
    "a = 20\n",
    "b = 35\n",
    "c = 19\n",
    "print(maximum(a, b, c))"
   ]
  },
  {
   "cell_type": "code",
   "execution_count": 9,
   "id": "46da4f0e-9ee6-48af-bb9f-d8fe2231ea86",
   "metadata": {},
   "outputs": [
    {
     "data": {
      "text/plain": [
       "(50, 30)"
      ]
     },
     "execution_count": 9,
     "metadata": {},
     "output_type": "execute_result"
    }
   ],
   "source": [
    "#Q2 Write a function calculation() so it can accept two variables and calculate the addition and subtraction of them.\n",
    "def func(num1, num2):\n",
    "    sum_ = num1+num2\n",
    "    sub_ = num1-num2\n",
    "    return sum_, sub_\n",
    "\n",
    "func(40,10)"
   ]
  },
  {
   "cell_type": "code",
   "execution_count": 33,
   "id": "91e53e6c-81c8-46d2-869b-6cd9d8896ab8",
   "metadata": {},
   "outputs": [
    {
     "name": "stdout",
     "output_type": "stream",
     "text": [
      "sum of all elements in given list:  15\n",
      "332640\n",
      "The original list 1 is : [0, 1, 2, 3, 4, 5]\n",
      "The original list 2 is : [6, 7, 8, 9, 10, 11]\n",
      "multiplylist is : [0, 0, 0, 0, 0, 0, 6, 7, 8, 9, 10, 11, 12, 14, 16, 18, 20, 22, 18, 21, 24, 27, 30, 33, 24, 28, 32, 36, 40, 44, 30, 35, 40, 45, 50, 55]\n"
     ]
    }
   ],
   "source": [
    "#Q3\n",
    "input:list=[0,1, 2,3, 4, 5,6,7,8,9,10]\n",
    "\n",
    "total = 0\n",
    "list1=[0,1, 2,3, 4, 5]\n",
    "for ele in range(0,len(list1)):\n",
    "    total = total + list1[ele]\n",
    "print(\"sum of all elements in given list: \",total)\n",
    "\n",
    "def multiplylist(mylist):  \n",
    "    result = 1\n",
    "    for x in mylist:\n",
    "        result = result * x  \n",
    "    return result\n",
    "list2=[6, 7, 8, 9, 10,11]\n",
    "print(multiplylist(list2))\n",
    "\n",
    "list1=[0,1, 2,3, 4, 5]\n",
    "list2=[6, 7, 8, 9, 10,11]\n",
    "\n",
    "print(\"The original list 1 is : \" + str(list1))\n",
    "print(\"The original list 2 is : \" + str(list2))\n",
    "\n",
    "res = [i * j for j in list1 for i in list2]\n",
    "print (\"multiplylist is : \" + str(res))\n",
    "\n",
    "\n",
    "\n",
    "\n",
    "def simpleSum(mylist):\n",
    "    #Write your code\n",
    "    result = 1\n",
    "    for n in mylist:\n",
    "        if n % 2 != 0:\n",
    "            return sum(mylist)\n",
    "        else:\n",
    "            result *= n\n",
    "            return result\n",
    "list1=[0,1, 2,3, 4, 5]\n",
    "list2=[6, 7, 8, 9, 10,11]\n",
    "\n"
   ]
  },
  {
   "cell_type": "code",
   "execution_count": 20,
   "id": "2c3b377c-cb35-4cb9-b4de-b01f4e571754",
   "metadata": {},
   "outputs": [
    {
     "name": "stdin",
     "output_type": "stream",
     "text": [
      " 100,150,180\n"
     ]
    },
    {
     "name": "stdout",
     "output_type": "stream",
     "text": [
      "18,22,24\n"
     ]
    }
   ],
   "source": [
    "#Q4 BONUS\n",
    "import math\n",
    "c=50\n",
    "h=30\n",
    "value = []\n",
    "items=[x for x in input().split(',')]\n",
    "for d in items:\n",
    "    value.append(str(int(round(math.sqrt(2*c*float(d)/h)))))\n",
    "\n",
    "print(','.join(value))"
   ]
  },
  {
   "cell_type": "code",
   "execution_count": null,
   "id": "6b05ad04-33a4-4311-816e-49d931f1a9ed",
   "metadata": {},
   "outputs": [],
   "source": []
  }
 ],
 "metadata": {
  "kernelspec": {
   "display_name": "Python 3 (ipykernel)",
   "language": "python",
   "name": "python3"
  },
  "language_info": {
   "codemirror_mode": {
    "name": "ipython",
    "version": 3
   },
   "file_extension": ".py",
   "mimetype": "text/x-python",
   "name": "python",
   "nbconvert_exporter": "python",
   "pygments_lexer": "ipython3",
   "version": "3.9.12"
  }
 },
 "nbformat": 4,
 "nbformat_minor": 5
}
